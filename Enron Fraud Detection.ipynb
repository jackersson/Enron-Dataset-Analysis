{
 "cells": [
  {
   "cell_type": "code",
   "execution_count": 7,
   "metadata": {
    "collapsed": false
   },
   "outputs": [],
   "source": [
    "import sys\n",
    "from time import time\n",
    "sys.path.append(\"tools/\")\n",
    "from email_preprocess import preprocess"
   ]
  },
  {
   "cell_type": "markdown",
   "metadata": {},
   "source": [
    "Use a Naive Bayes Classifier to identify emails by their authors\n",
    "\n",
    "authors and labels:\n",
    "Sara has label 0\n",
    "Chris has label 1    \n",
    "\n",
    "+ : Good for texts, fast\n",
    "- : lower accuracy"
   ]
  },
  {
   "cell_type": "code",
   "execution_count": 13,
   "metadata": {
    "collapsed": false
   },
   "outputs": [
    {
     "name": "stdout",
     "output_type": "stream",
     "text": [
      "no. of Chris training emails: 7936\n",
      "no. of Sara training emails: 7884\n"
     ]
    }
   ],
   "source": [
    "### features_train and features_test are the features for the training\n",
    "### and testing datasets, respectively\n",
    "### labels_train and labels_test are the corresponding item labels\n",
    "features_train, features_test, labels_train, labels_test = preprocess('tools/word_data.pkl', 'tools/email_authors.pkl')"
   ]
  },
  {
   "cell_type": "code",
   "execution_count": 10,
   "metadata": {
    "collapsed": false
   },
   "outputs": [
    {
     "name": "stdout",
     "output_type": "stream",
     "text": [
      "training time: 0.224 s\n",
      "accuracy :  0.920364050057\n"
     ]
    }
   ],
   "source": [
    "from sklearn.naive_bayes import GaussianNB \n",
    "clf = GaussianNB()\n",
    "\n",
    "t0 = time()\n",
    "pred = clf.fit(features_train, labels_train).predict(features_test)\n",
    "print \"training time:\", round(time()-t0, 3), \"s\"\n",
    "\n",
    "from sklearn.metrics import accuracy_score\n",
    "score = accuracy_score(labels_test, pred)\n",
    "print \"accuracy : \", score"
   ]
  },
  {
   "cell_type": "markdown",
   "metadata": {},
   "source": [
    "Use a Decision Tree Classifier to identify emails by their authors\n",
    "\n",
    "information gain = entropy(parent) - [weighted average](entropy children)\n",
    "+ : maximize information gain\n",
    "- : slow"
   ]
  },
  {
   "cell_type": "code",
   "execution_count": 12,
   "metadata": {
    "collapsed": false
   },
   "outputs": [
    {
     "name": "stdout",
     "output_type": "stream",
     "text": [
      "training time: 5.129 s\n",
      "0.967007963595\n"
     ]
    }
   ],
   "source": [
    "from sklearn import tree\n",
    "\n",
    "clf  = tree.DecisionTreeClassifier(min_samples_split=40)\n",
    "\n",
    "t0 = time()\n",
    "pred = clf.fit(features_train, labels_train).predict(features_test)\n",
    "print \"training time:\", round(time()-t0, 3), \"s\"\n",
    "\n",
    "\n",
    "from sklearn.metrics import accuracy_score\n",
    "print accuracy_score(labels_test, pred)"
   ]
  },
  {
   "cell_type": "markdown",
   "metadata": {},
   "source": [
    "Use a SVM to identify emails from the Enron corpus by their authors\n",
    "\n",
    "GridCV for tuning parametrs\n",
    "\n",
    "+: accuracy \n",
    "-: low labels count, slow"
   ]
  },
  {
   "cell_type": "code",
   "execution_count": 14,
   "metadata": {
    "collapsed": false
   },
   "outputs": [
    {
     "name": "stdout",
     "output_type": "stream",
     "text": [
      "no. of Chris training emails: 7936\n",
      "no. of Sara training emails: 7884\n",
      "training time: 0.099 s\n",
      "accuracy :  0.880546075085\n"
     ]
    }
   ],
   "source": [
    "f_train, f_test, l_train, l_test = preprocess('tools/word_data.pkl', 'tools/email_authors.pkl')\n",
    "\n",
    "f_train = f_train[:len(features_train)/100] #to speed up processing\n",
    "l_train = l_train[:len(labels_train)/100] \n",
    "\n",
    "from sklearn import svm\n",
    "clf = svm.SVC(kernel='rbf', C=10000.0)\n",
    "\n",
    "t0 = time()\n",
    "pred = clf.fit(f_train, l_train).predict(f_test)\n",
    "print \"training time:\", round(time()-t0, 3), \"s\"\n",
    "\n",
    "from sklearn.metrics import accuracy_score\n",
    "score = accuracy_score(labels_test, pred)\n",
    "print \"accuracy : \", score"
   ]
  },
  {
   "cell_type": "markdown",
   "metadata": {},
   "source": [
    "Linear Regression\n",
    "\n",
    "y = slope * x + intercept\n",
    "\n",
    "- minimizes squared errors\n",
    "- allows to look on data and see some correlations"
   ]
  },
  {
   "cell_type": "code",
   "execution_count": 16,
   "metadata": {
    "collapsed": false
   },
   "outputs": [
    {
     "name": "stdout",
     "output_type": "stream",
     "text": [
      "score =  -1.48499241737\n",
      "slope =  [ 5.44814029]\n",
      "intercept =  -102360.543294\n",
      "slope =  [ 2.27410114]\n"
     ]
    },
    {
     "data": {
      "image/png": "[encoded data removed]",
      "text/plain": [
       "<matplotlib.figure.Figure at 0x7f0fc9ecf290>"
      ]
     },
     "metadata": {},
     "output_type": "display_data"
    }
   ],
   "source": [
    "import pickle\n",
    "\n",
    "from feature_format import featureFormat, targetFeatureSplit\n",
    "dictionary = pickle.load( open(\"final_project_dataset_modified.pkl\", \"r\") )\n",
    "\n",
    "### list the features \n",
    "### list will be the \"target\" feature\n",
    "features_list = [\"bonus\", \"salary\"]\n",
    "data = featureFormat( dictionary, features_list, remove_any_zeroes=True)\n",
    "target, features = targetFeatureSplit( data )\n",
    "\n",
    "### training-testing split needed in regression, just like classification\n",
    "from sklearn.cross_validation import train_test_split\n",
    "feature_train, feature_test, target_train, target_test = train_test_split(features, target, test_size=0.5, random_state=42)\n",
    "train_color = \"b\"\n",
    "test_color = \"r\"\n",
    "\n",
    "from sklearn import linear_model\n",
    "reg = linear_model.LinearRegression()\n",
    "reg.fit(feature_train, target_train)\n",
    "\n",
    "print \"score = \", reg.score(feature_test, target_test)\n",
    "print \"slope = \", reg.coef_\n",
    "print \"intercept = \", reg.intercept_\n",
    "\n",
    "### scatterplot, with color-coded training and testing points\n",
    "import matplotlib.pyplot as plt\n",
    "for feature, target in zip(feature_test, target_test):\n",
    "    plt.scatter( feature, target, color=test_color ) \n",
    "for feature, target in zip(feature_train, target_train):\n",
    "    plt.scatter( feature, target, color=train_color ) \n",
    "\n",
    "### labels for the legend\n",
    "plt.scatter(feature_test[0], target_test[0], color=test_color, label=\"test\")\n",
    "plt.scatter(feature_test[0], target_test[0], color=train_color, label=\"train\")\n",
    "\n",
    "\n",
    "### regression line\n",
    "try:\n",
    "    plt.plot( feature_test, reg.predict(feature_test) )\n",
    "except NameError:\n",
    "    pass\n",
    "\n",
    "reg.fit(feature_test, target_test)\n",
    "plt.plot(feature_train, reg.predict(feature_train), color=\"b\") \n",
    "print \"slope = \", reg.coef_\n",
    "\n",
    "plt.xlabel(features_list[1])\n",
    "plt.ylabel(features_list[0])\n",
    "plt.legend()\n",
    "plt.show()"
   ]
  },
  {
   "cell_type": "code",
   "execution_count": null,
   "metadata": {
    "collapsed": true
   },
   "outputs": [],
   "source": []
  }
 ],
 "metadata": {
  "kernelspec": {
   "display_name": "Python 2",
   "language": "python",
   "name": "python2"
  },
  "language_info": {
   "codemirror_mode": {
    "name": "ipython",
    "version": 2
   },
   "file_extension": ".py",
   "mimetype": "text/x-python",
   "name": "python",
   "nbconvert_exporter": "python",
   "pygments_lexer": "ipython2",
   "version": "2.7.12"
  }
 },
 "nbformat": 4,
 "nbformat_minor": 2
}
